{
 "cells": [
  {
   "cell_type": "markdown",
   "metadata": {},
   "source": [
    "# Agro Cycle GAN"
   ]
  },
  {
   "cell_type": "markdown",
   "metadata": {},
   "source": [
    "### Clone repository"
   ]
  },
  {
   "cell_type": "code",
   "execution_count": 1,
   "metadata": {},
   "outputs": [
    {
     "name": "stderr",
     "output_type": "stream",
     "text": [
      "Cloning into 'agro_cycle_gan'...\n",
      "Updating files:  86% (43/50)\n",
      "Updating files:  88% (44/50)\n",
      "Updating files:  90% (45/50)\n",
      "Updating files:  92% (46/50)\n",
      "Updating files:  94% (47/50)\n",
      "Updating files:  96% (48/50)\n",
      "Updating files:  98% (49/50)\n",
      "Updating files: 100% (50/50)\n",
      "Updating files: 100% (50/50), done.\n"
     ]
    }
   ],
   "source": [
    "!git clone https://github.com/GonzaloRomeroR/agro_cycle_gan.git\n",
    "%cd ./agro_cycle_gan"
   ]
  },
  {
   "cell_type": "markdown",
   "metadata": {},
   "source": [
    "### Set running options"
   ]
  },
  {
   "cell_type": "code",
   "execution_count": 4,
   "metadata": {},
   "outputs": [
    {
     "name": "stdout",
     "output_type": "stream",
     "text": [
      "env: DATASET=soysmallbig\n",
      "env: FOLDER=soy_small2soy_big\n"
     ]
    }
   ],
   "source": [
    "# Training params\n",
    "n_epochs = \"240\"\n",
    "dataset = \"soysmallbig\"\n",
    "flags = \"\"\n",
    "\n",
    "# Use uploaded dataset\n",
    "if dataset == \"soysmallbig\":\n",
    "    %env DATASET=soysmallbig\n",
    "    %env FOLDER=soy_small2soy_big\n",
    "    folder = \"soy_small2soy_big\"\n",
    "elif dataset == \"soycorn\":\n",
    "    %env DATASET=soycorn\n",
    "    %env FOLDER=soy2corn\n",
    "    folder = \"soy2corn\"\n",
    "elif dataset == \"overcornoverwheat\":\n",
    "    %env DATASET=overcornoverwheat\n",
    "    %env FOLDER=over_corn2over_wheat\n",
    "    folder = \"over_corn2over_wheat\""
   ]
  },
  {
   "cell_type": "markdown",
   "metadata": {},
   "source": [
    "### Train"
   ]
  },
  {
   "cell_type": "code",
   "execution_count": 9,
   "metadata": {},
   "outputs": [],
   "source": [
    "!python train.py $folder --num_epochs $n_epochs --image_resize 256 256 $flags"
   ]
  }
 ],
 "metadata": {
  "interpreter": {
   "hash": "b7f27f0218d8a6e2ca40b260123b9ba184168279bf7c1e7c465f5d85f554e641"
  },
  "kernelspec": {
   "display_name": "Python 3.8.8 ('base')",
   "language": "python",
   "name": "python3"
  },
  "language_info": {
   "codemirror_mode": {
    "name": "ipython",
    "version": 3
   },
   "file_extension": ".py",
   "mimetype": "text/x-python",
   "name": "python",
   "nbconvert_exporter": "python",
   "pygments_lexer": "ipython3",
   "version": "3.8.8"
  },
  "orig_nbformat": 4
 },
 "nbformat": 4,
 "nbformat_minor": 2
}

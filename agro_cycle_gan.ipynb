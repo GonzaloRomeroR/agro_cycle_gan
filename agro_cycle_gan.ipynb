{
 "cells": [
  {
   "cell_type": "markdown",
   "metadata": {},
   "source": [
    "# Agro Cycle GAN"
   ]
  },
  {
   "cell_type": "markdown",
   "metadata": {},
   "source": [
    "### Clone repository"
   ]
  },
  {
   "cell_type": "code",
   "execution_count": 1,
   "metadata": {},
   "outputs": [
    {
     "name": "stdout",
     "output_type": "stream",
     "text": [
      "c:\\Users\\gonza\\OneDrive\\Documentos\\Gonzalo\\Especializacion\\agro_cycle_gan\\agro_cycle_gan\n"
     ]
    },
    {
     "name": "stderr",
     "output_type": "stream",
     "text": [
      "Cloning into 'agro_cycle_gan'...\n"
     ]
    }
   ],
   "source": [
    "# Download repository\n",
    "!git clone https://github.com/GonzaloRomeroR/agro_cycle_gan.git\n",
    "%cd ./agro_cycle_gan"
   ]
  },
  {
   "cell_type": "code",
   "execution_count": 2,
   "metadata": {},
   "outputs": [
    {
     "name": "stdout",
     "output_type": "stream",
     "text": [
      "HEAD is now at 6b6031c More refactoring\n",
      "Already up to date.\n"
     ]
    },
    {
     "name": "stderr",
     "output_type": "stream",
     "text": [
      "From https://github.com/GonzaloRomeroR/agro_cycle_gan\n",
      " * branch            main       -> FETCH_HEAD\n"
     ]
    },
    {
     "name": "stdout",
     "output_type": "stream",
     "text": [
      "Your branch is up to date with 'origin/main'.\n"
     ]
    },
    {
     "name": "stderr",
     "output_type": "stream",
     "text": [
      "Already on 'main'\n"
     ]
    },
    {
     "name": "stdout",
     "output_type": "stream",
     "text": [
      "commit 6b6031c07ea0ae1f8157feca22bd0e3634aed4d3\n",
      "Author: Gonzalo Romero Roman <gonzaromero2007@gmail.com>\n",
      "Date:   Sun Nov 19 10:57:57 2023 +0100\n",
      "\n",
      "    More refactoring\n",
      "\n",
      "commit ef8095da622b1f8f05ca55cb19e92639b4bd724e\n",
      "Merge: ac10c06 cf1aef7\n",
      "Author: Gonzalo Romero Roman <gonzaromero2007@gmail.com>\n",
      "Date:   Sun Nov 19 10:27:39 2023 +0100\n",
      "\n",
      "    Merge branch 'main' of https://github.com/GonzaloRomeroR/agro_cycle_gan\n",
      "\n",
      "commit ac10c06596f41fc5b09169a917bd8d230dcd24aa\n",
      "Author: Gonzalo Romero Roman <gonzaromero2007@gmail.com>\n",
      "Date:   Sun Nov 19 10:26:42 2023 +0100\n",
      "\n",
      "    Minor refactoring\n",
      "\n",
      "commit cf1aef713a1edd68a6f110d3a2993b50981d7b3a\n",
      "Author: gromero <gromero@createitreal.com>\n",
      "Date:   Wed Oct 11 21:41:31 2023 +0200\n",
      "\n",
      "    Make generation more verbose\n",
      "\n",
      "commit c5f612f75972a3da84e7e8f3eaa553660d82cba3\n",
      "Author: Gonzalo Romero Roman <gonzaromero2007@gmail.com>\n",
      "Date:   Sun Oct 1 17:17:51 2023 +0200\n",
      "\n",
      "    Add another dataset\n"
     ]
    }
   ],
   "source": [
    "# Update repository\n",
    "!git reset --hard\n",
    "!git pull --rebase origin main\n",
    "!git checkout main\n",
    "!git log -n 5"
   ]
  },
  {
   "cell_type": "markdown",
   "metadata": {},
   "source": [
    "### Set running options"
   ]
  },
  {
   "cell_type": "code",
   "execution_count": 4,
   "metadata": {},
   "outputs": [],
   "source": [
    "# Training params\n",
    "n_epochs = \"5\"\n",
    "dataset = \"testA2testB\"\n",
    "flags = \"\"\n"
   ]
  },
  {
   "cell_type": "markdown",
   "metadata": {},
   "source": [
    "### Train"
   ]
  },
  {
   "cell_type": "code",
   "execution_count": 5,
   "metadata": {},
   "outputs": [
    {
     "name": "stdout",
     "output_type": "stream",
     "text": [
      "Performing setup\n",
      "The code will run on CPU.\n"
     ]
    },
    {
     "name": "stderr",
     "output_type": "stream",
     "text": [
      "Traceback (most recent call last):\n",
      "  File \"c:\\Users\\gonza\\OneDrive\\Documentos\\Gonzalo\\Especializacion\\agro_cycle_gan\\agro_cycle_gan\\train.py\", line 127, in <module>\n",
      "    train(config)\n",
      "  File \"c:\\Users\\gonza\\OneDrive\\Documentos\\Gonzalo\\Especializacion\\agro_cycle_gan\\agro_cycle_gan\\train.py\", line 23, in train\n",
      "    trainer = _setup_trainer(config)\n",
      "  File \"c:\\Users\\gonza\\OneDrive\\Documentos\\Gonzalo\\Especializacion\\agro_cycle_gan\\agro_cycle_gan\\train.py\", line 70, in _setup_trainer\n",
      "    datasets = datasets_get(dataset_name, im_size[1:], batch_size)\n",
      "  File \"c:\\Users\\gonza\\OneDrive\\Documentos\\Gonzalo\\Especializacion\\agro_cycle_gan\\agro_cycle_gan\\utils\\image_utils.py\", line 40, in datasets_get\n",
      "    (datasets.train_A, datasets.train_B) = get_datasets(\n",
      "  File \"c:\\Users\\gonza\\OneDrive\\Documentos\\Gonzalo\\Especializacion\\agro_cycle_gan\\agro_cycle_gan\\utils\\image_utils.py\", line 72, in get_datasets\n",
      "    images_A = upload_images(\n",
      "  File \"c:\\Users\\gonza\\OneDrive\\Documentos\\Gonzalo\\Especializacion\\agro_cycle_gan\\agro_cycle_gan\\utils\\image_utils.py\", line 183, in upload_images\n",
      "    image_dataset = get_image_folder(path, im_size, data_augmentation, crop_size)\n",
      "  File \"c:\\Users\\gonza\\OneDrive\\Documentos\\Gonzalo\\Especializacion\\agro_cycle_gan\\agro_cycle_gan\\utils\\image_utils.py\", line 155, in get_image_folder\n",
      "    image_dataset = dset.ImageFolder(\n",
      "  File \"c:\\Users\\gonza\\AppData\\Local\\Programs\\Python\\Python310\\lib\\site-packages\\torchvision\\datasets\\folder.py\", line 310, in __init__\n",
      "    super().__init__(\n",
      "  File \"c:\\Users\\gonza\\AppData\\Local\\Programs\\Python\\Python310\\lib\\site-packages\\torchvision\\datasets\\folder.py\", line 145, in __init__\n",
      "    classes, class_to_idx = self.find_classes(self.root)\n",
      "  File \"c:\\Users\\gonza\\AppData\\Local\\Programs\\Python\\Python310\\lib\\site-packages\\torchvision\\datasets\\folder.py\", line 219, in find_classes\n",
      "    return find_classes(directory)\n",
      "  File \"c:\\Users\\gonza\\AppData\\Local\\Programs\\Python\\Python310\\lib\\site-packages\\torchvision\\datasets\\folder.py\", line 41, in find_classes\n",
      "    classes = sorted(entry.name for entry in os.scandir(directory) if entry.is_dir())\n",
      "FileNotFoundError: [WinError 3] The system cannot find the path specified: 'C:\\\\Users\\\\gonza\\\\OneDrive\\\\Documentos\\\\Gonzalo\\\\Especializacion\\\\agro_cycle_gan\\\\agro_cycle_gan\\\\utils/../images/soy_crop2corn_crop/train_A/'\n"
     ]
    }
   ],
   "source": [
    "!python train.py $dataset --num_epochs $n_epochs --image_resize 512 512  --crop_size 512 512 --plot_image_epoch --batch_size 1 --metrics fid --comments \"Test A to test B, resnet generator\" --generator resnet --discriminator nlayer"
   ]
  }
 ],
 "metadata": {
  "interpreter": {
   "hash": "b7f27f0218d8a6e2ca40b260123b9ba184168279bf7c1e7c465f5d85f554e641"
  },
  "kernelspec": {
   "display_name": "Python 3.8.8 ('base')",
   "language": "python",
   "name": "python3"
  },
  "language_info": {
   "codemirror_mode": {
    "name": "ipython",
    "version": 3
   },
   "file_extension": ".py",
   "mimetype": "text/x-python",
   "name": "python",
   "nbconvert_exporter": "python",
   "pygments_lexer": "ipython3",
   "version": "3.10.4"
  },
  "orig_nbformat": 4
 },
 "nbformat": 4,
 "nbformat_minor": 2
}
